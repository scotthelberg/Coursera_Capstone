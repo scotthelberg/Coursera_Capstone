{
    "cells": [
        {
            "metadata": {
                "collapsed": true
            },
            "cell_type": "markdown",
            "source": "# Capstone Project - Where to live in London"
        },
        {
            "metadata": {},
            "cell_type": "markdown",
            "source": "## Introduction/Business Problem"
        },
        {
            "metadata": {},
            "cell_type": "markdown",
            "source": "One of my best friends is moving to London due to work and has never been there before. He is asking for help in determining where he should move to within the city. I will assist by analyzing what each of the communities has to offer. We'll compare these to his preferences and provide recommendations on where he should move."
        },
        {
            "metadata": {},
            "cell_type": "markdown",
            "source": "## Data"
        },
        {
            "metadata": {},
            "cell_type": "markdown",
            "source": "We will require geographical location data for London. Postal codes will serve as a starting point. Using Postal codes we use can find out the neighborhoods, boroughs, venues and their most popular venue categories.To derive our solution, We scrape our data from https://en.wikipedia.org/wiki/List_of_areas_of_London. This Wikipedia page has information about all the neighbourhoods, we limit it London.\n\nborough : Name of Neighbourhood\n\ntown : Name of borough\n\npost_code : Postal codes for London.\n\nThis Wikipedia page lacks information about the geographical locations. To solve this problem, we will use pgeocode.\n\nWe will need data about different venues in different neighbourhoods of that specific borough. In order to gain that information we will use Foursquare locational information. Foursquare is a location data provider with information about all manner of venues and events within an area of interest. Such information includes venue names, locations, menus and even photos. As such, the foursquare location platform will be used as the sole data source since all the stated required information can be obtained through the API.\n\nAfter finding the list of neighbourhoods, we then connect to the Foursquare API to gather information about venues inside each and every neighbourhood. For each neighbourhood, we have chosen the radius to be 500 meters.\n\nThe data retrieved from Foursquare contained information of venues within a specified distance of the longitude and latitude of the postcodes. The information obtained per venue as follows:\n\nNeighbourhood : Name of the Neighbourhood\n\nNeighbourhood Latitude : Latitude of the Neighbourhood\n\nNeighbourhood Longitude : Longitude of the Neighbourhood\n\nVenue : Name of the Venue\n\nVenue Latitude : Latitude of Venue\n\nVenue Longitude : Longitude of Venue\n\nVenue Category : Category of Venue\n\nBased on all the information collected for London, we have sufficient data to build our model. We can cluster the neighbourhoods. We will then present our findings and provide a recommendation to our friend of where to move to within London."
        },
        {
            "metadata": {},
            "cell_type": "code",
            "source": "",
            "execution_count": null,
            "outputs": []
        }
    ],
    "metadata": {
        "kernelspec": {
            "name": "python3",
            "display_name": "Python 3.7",
            "language": "python"
        },
        "language_info": {
            "name": "python",
            "version": "3.7.9",
            "mimetype": "text/x-python",
            "codemirror_mode": {
                "name": "ipython",
                "version": 3
            },
            "pygments_lexer": "ipython3",
            "nbconvert_exporter": "python",
            "file_extension": ".py"
        }
    },
    "nbformat": 4,
    "nbformat_minor": 1
}