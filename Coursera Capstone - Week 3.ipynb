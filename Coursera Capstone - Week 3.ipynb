{
    "cells": [
        {
            "metadata": {},
            "cell_type": "markdown",
            "source": "## Cleaning Toronto Neighborhood Data"
        },
        {
            "metadata": {},
            "cell_type": "code",
            "source": "import pandas as pd",
            "execution_count": 11,
            "outputs": []
        },
        {
            "metadata": {
                "scrolled": true
            },
            "cell_type": "code",
            "source": "url = 'https://en.wikipedia.org/wiki/List_of_postal_codes_of_Canada:_M'\ndf = pd.read_html(url, header =0)[0]\n",
            "execution_count": 12,
            "outputs": []
        },
        {
            "metadata": {},
            "cell_type": "code",
            "source": "df = df[df.Borough != 'Not assigned']\ndf",
            "execution_count": 13,
            "outputs": [
                {
                    "output_type": "execute_result",
                    "execution_count": 13,
                    "data": {
                        "text/plain": "    Postal Code           Borough  \\\n2           M3A        North York   \n3           M4A        North York   \n4           M5A  Downtown Toronto   \n5           M6A        North York   \n6           M7A  Downtown Toronto   \n..          ...               ...   \n160         M8X         Etobicoke   \n165         M4Y  Downtown Toronto   \n168         M7Y      East Toronto   \n169         M8Y         Etobicoke   \n178         M8Z         Etobicoke   \n\n                                         Neighbourhood  \n2                                            Parkwoods  \n3                                     Victoria Village  \n4                            Regent Park, Harbourfront  \n5                     Lawrence Manor, Lawrence Heights  \n6          Queen's Park, Ontario Provincial Government  \n..                                                 ...  \n160      The Kingsway, Montgomery Road, Old Mill North  \n165                               Church and Wellesley  \n168  Business reply mail Processing Centre, South C...  \n169  Old Mill South, King's Mill Park, Sunnylea, Hu...  \n178  Mimico NW, The Queensway West, South of Bloor,...  \n\n[103 rows x 3 columns]",
                        "text/html": "<div>\n<style scoped>\n    .dataframe tbody tr th:only-of-type {\n        vertical-align: middle;\n    }\n\n    .dataframe tbody tr th {\n        vertical-align: top;\n    }\n\n    .dataframe thead th {\n        text-align: right;\n    }\n</style>\n<table border=\"1\" class=\"dataframe\">\n  <thead>\n    <tr style=\"text-align: right;\">\n      <th></th>\n      <th>Postal Code</th>\n      <th>Borough</th>\n      <th>Neighbourhood</th>\n    </tr>\n  </thead>\n  <tbody>\n    <tr>\n      <th>2</th>\n      <td>M3A</td>\n      <td>North York</td>\n      <td>Parkwoods</td>\n    </tr>\n    <tr>\n      <th>3</th>\n      <td>M4A</td>\n      <td>North York</td>\n      <td>Victoria Village</td>\n    </tr>\n    <tr>\n      <th>4</th>\n      <td>M5A</td>\n      <td>Downtown Toronto</td>\n      <td>Regent Park, Harbourfront</td>\n    </tr>\n    <tr>\n      <th>5</th>\n      <td>M6A</td>\n      <td>North York</td>\n      <td>Lawrence Manor, Lawrence Heights</td>\n    </tr>\n    <tr>\n      <th>6</th>\n      <td>M7A</td>\n      <td>Downtown Toronto</td>\n      <td>Queen's Park, Ontario Provincial Government</td>\n    </tr>\n    <tr>\n      <th>...</th>\n      <td>...</td>\n      <td>...</td>\n      <td>...</td>\n    </tr>\n    <tr>\n      <th>160</th>\n      <td>M8X</td>\n      <td>Etobicoke</td>\n      <td>The Kingsway, Montgomery Road, Old Mill North</td>\n    </tr>\n    <tr>\n      <th>165</th>\n      <td>M4Y</td>\n      <td>Downtown Toronto</td>\n      <td>Church and Wellesley</td>\n    </tr>\n    <tr>\n      <th>168</th>\n      <td>M7Y</td>\n      <td>East Toronto</td>\n      <td>Business reply mail Processing Centre, South C...</td>\n    </tr>\n    <tr>\n      <th>169</th>\n      <td>M8Y</td>\n      <td>Etobicoke</td>\n      <td>Old Mill South, King's Mill Park, Sunnylea, Hu...</td>\n    </tr>\n    <tr>\n      <th>178</th>\n      <td>M8Z</td>\n      <td>Etobicoke</td>\n      <td>Mimico NW, The Queensway West, South of Bloor,...</td>\n    </tr>\n  </tbody>\n</table>\n<p>103 rows \u00d7 3 columns</p>\n</div>"
                    },
                    "metadata": {}
                }
            ]
        },
        {
            "metadata": {},
            "cell_type": "code",
            "source": "df.shape",
            "execution_count": 14,
            "outputs": [
                {
                    "output_type": "execute_result",
                    "execution_count": 14,
                    "data": {
                        "text/plain": "(103, 3)"
                    },
                    "metadata": {}
                }
            ]
        },
        {
            "metadata": {},
            "cell_type": "markdown",
            "source": "## Adding Latitude and Longitude to the Dataframe"
        },
        {
            "metadata": {},
            "cell_type": "code",
            "source": "pip install pgeocode\n",
            "execution_count": 18,
            "outputs": [
                {
                    "output_type": "stream",
                    "text": "Collecting pgeocode\n  Downloading pgeocode-0.3.0-py3-none-any.whl (8.5 kB)\nRequirement already satisfied: requests in /opt/conda/envs/Python-3.7-main/lib/python3.7/site-packages (from pgeocode) (2.24.0)\nRequirement already satisfied: pandas in /opt/conda/envs/Python-3.7-main/lib/python3.7/site-packages (from pgeocode) (1.0.5)\nRequirement already satisfied: numpy in /opt/conda/envs/Python-3.7-main/lib/python3.7/site-packages (from pgeocode) (1.18.5)\nRequirement already satisfied: urllib3!=1.25.0,!=1.25.1,<1.26,>=1.21.1 in /opt/conda/envs/Python-3.7-main/lib/python3.7/site-packages (from requests->pgeocode) (1.25.9)\nRequirement already satisfied: certifi>=2017.4.17 in /opt/conda/envs/Python-3.7-main/lib/python3.7/site-packages (from requests->pgeocode) (2020.12.5)\nRequirement already satisfied: chardet<4,>=3.0.2 in /opt/conda/envs/Python-3.7-main/lib/python3.7/site-packages (from requests->pgeocode) (3.0.4)\nRequirement already satisfied: idna<3,>=2.5 in /opt/conda/envs/Python-3.7-main/lib/python3.7/site-packages (from requests->pgeocode) (2.9)\nRequirement already satisfied: pytz>=2017.2 in /opt/conda/envs/Python-3.7-main/lib/python3.7/site-packages (from pandas->pgeocode) (2020.1)\nRequirement already satisfied: python-dateutil>=2.6.1 in /opt/conda/envs/Python-3.7-main/lib/python3.7/site-packages (from pandas->pgeocode) (2.8.1)\nRequirement already satisfied: six>=1.5 in /opt/conda/envs/Python-3.7-main/lib/python3.7/site-packages (from python-dateutil>=2.6.1->pandas->pgeocode) (1.15.0)\nInstalling collected packages: pgeocode\nSuccessfully installed pgeocode-0.3.0\nNote: you may need to restart the kernel to use updated packages.\n",
                    "name": "stdout"
                }
            ]
        },
        {
            "metadata": {},
            "cell_type": "code",
            "source": "import pgeocode\npgeocode.Nominatim('ca')\ngeolocator = pgeocode.Nominatim('ca')\npostal_codes = df['Postal Code'].tolist()\nlatitudes = []\nlongitudes = []\nfor i, postal_code in enumerate(postal_codes):\n    # initialize your variable to None\n    #print(f'--Getting Postal Code: {postal_code}')\n    g = geolocator.query_postal_code(postal_code)\n    \n    if not g.empty:\n        print(f'Postal Code {postal_code} has been retrieved. {len(postal_codes) - (i + 1)} codes left')\n        latitudes.append(g.latitude)\n        longitudes.append(g.longitude)",
            "execution_count": 19,
            "outputs": [
                {
                    "output_type": "stream",
                    "text": "Postal Code M3A has been retrieved. 102 codes left\nPostal Code M4A has been retrieved. 101 codes left\nPostal Code M5A has been retrieved. 100 codes left\nPostal Code M6A has been retrieved. 99 codes left\nPostal Code M7A has been retrieved. 98 codes left\nPostal Code M9A has been retrieved. 97 codes left\nPostal Code M1B has been retrieved. 96 codes left\nPostal Code M3B has been retrieved. 95 codes left\nPostal Code M4B has been retrieved. 94 codes left\nPostal Code M5B has been retrieved. 93 codes left\nPostal Code M6B has been retrieved. 92 codes left\nPostal Code M9B has been retrieved. 91 codes left\nPostal Code M1C has been retrieved. 90 codes left\nPostal Code M3C has been retrieved. 89 codes left\nPostal Code M4C has been retrieved. 88 codes left\nPostal Code M5C has been retrieved. 87 codes left\nPostal Code M6C has been retrieved. 86 codes left\nPostal Code M9C has been retrieved. 85 codes left\nPostal Code M1E has been retrieved. 84 codes left\nPostal Code M4E has been retrieved. 83 codes left\nPostal Code M5E has been retrieved. 82 codes left\nPostal Code M6E has been retrieved. 81 codes left\nPostal Code M1G has been retrieved. 80 codes left\nPostal Code M4G has been retrieved. 79 codes left\nPostal Code M5G has been retrieved. 78 codes left\nPostal Code M6G has been retrieved. 77 codes left\nPostal Code M1H has been retrieved. 76 codes left\nPostal Code M2H has been retrieved. 75 codes left\nPostal Code M3H has been retrieved. 74 codes left\nPostal Code M4H has been retrieved. 73 codes left\nPostal Code M5H has been retrieved. 72 codes left\nPostal Code M6H has been retrieved. 71 codes left\nPostal Code M1J has been retrieved. 70 codes left\nPostal Code M2J has been retrieved. 69 codes left\nPostal Code M3J has been retrieved. 68 codes left\nPostal Code M4J has been retrieved. 67 codes left\nPostal Code M5J has been retrieved. 66 codes left\nPostal Code M6J has been retrieved. 65 codes left\nPostal Code M1K has been retrieved. 64 codes left\nPostal Code M2K has been retrieved. 63 codes left\nPostal Code M3K has been retrieved. 62 codes left\nPostal Code M4K has been retrieved. 61 codes left\nPostal Code M5K has been retrieved. 60 codes left\nPostal Code M6K has been retrieved. 59 codes left\nPostal Code M1L has been retrieved. 58 codes left\nPostal Code M2L has been retrieved. 57 codes left\nPostal Code M3L has been retrieved. 56 codes left\nPostal Code M4L has been retrieved. 55 codes left\nPostal Code M5L has been retrieved. 54 codes left\nPostal Code M6L has been retrieved. 53 codes left\nPostal Code M9L has been retrieved. 52 codes left\nPostal Code M1M has been retrieved. 51 codes left\nPostal Code M2M has been retrieved. 50 codes left\nPostal Code M3M has been retrieved. 49 codes left\nPostal Code M4M has been retrieved. 48 codes left\nPostal Code M5M has been retrieved. 47 codes left\nPostal Code M6M has been retrieved. 46 codes left\nPostal Code M9M has been retrieved. 45 codes left\nPostal Code M1N has been retrieved. 44 codes left\nPostal Code M2N has been retrieved. 43 codes left\nPostal Code M3N has been retrieved. 42 codes left\nPostal Code M4N has been retrieved. 41 codes left\nPostal Code M5N has been retrieved. 40 codes left\nPostal Code M6N has been retrieved. 39 codes left\nPostal Code M9N has been retrieved. 38 codes left\nPostal Code M1P has been retrieved. 37 codes left\nPostal Code M2P has been retrieved. 36 codes left\nPostal Code M4P has been retrieved. 35 codes left\nPostal Code M5P has been retrieved. 34 codes left\nPostal Code M6P has been retrieved. 33 codes left\nPostal Code M9P has been retrieved. 32 codes left\nPostal Code M1R has been retrieved. 31 codes left\nPostal Code M2R has been retrieved. 30 codes left\nPostal Code M4R has been retrieved. 29 codes left\nPostal Code M5R has been retrieved. 28 codes left\nPostal Code M6R has been retrieved. 27 codes left\nPostal Code M7R has been retrieved. 26 codes left\nPostal Code M9R has been retrieved. 25 codes left\nPostal Code M1S has been retrieved. 24 codes left\nPostal Code M4S has been retrieved. 23 codes left\nPostal Code M5S has been retrieved. 22 codes left\nPostal Code M6S has been retrieved. 21 codes left\nPostal Code M1T has been retrieved. 20 codes left\nPostal Code M4T has been retrieved. 19 codes left\nPostal Code M5T has been retrieved. 18 codes left\nPostal Code M1V has been retrieved. 17 codes left\nPostal Code M4V has been retrieved. 16 codes left\nPostal Code M5V has been retrieved. 15 codes left\nPostal Code M8V has been retrieved. 14 codes left\nPostal Code M9V has been retrieved. 13 codes left\nPostal Code M1W has been retrieved. 12 codes left\nPostal Code M4W has been retrieved. 11 codes left\nPostal Code M5W has been retrieved. 10 codes left\nPostal Code M8W has been retrieved. 9 codes left\nPostal Code M9W has been retrieved. 8 codes left\nPostal Code M1X has been retrieved. 7 codes left\nPostal Code M4X has been retrieved. 6 codes left\nPostal Code M5X has been retrieved. 5 codes left\nPostal Code M8X has been retrieved. 4 codes left\nPostal Code M4Y has been retrieved. 3 codes left\nPostal Code M7Y has been retrieved. 2 codes left\nPostal Code M8Y has been retrieved. 1 codes left\nPostal Code M8Z has been retrieved. 0 codes left\n",
                    "name": "stdout"
                }
            ]
        },
        {
            "metadata": {},
            "cell_type": "code",
            "source": "df.insert(3,\"Latitude\",latitudes)\ndf.insert(4,\"Longitude\",longitudes)\ndf.head()",
            "execution_count": 24,
            "outputs": [
                {
                    "output_type": "execute_result",
                    "execution_count": 24,
                    "data": {
                        "text/plain": "  Postal Code           Borough                                Neighbourhood  \\\n2         M3A        North York                                    Parkwoods   \n3         M4A        North York                             Victoria Village   \n4         M5A  Downtown Toronto                    Regent Park, Harbourfront   \n5         M6A        North York             Lawrence Manor, Lawrence Heights   \n6         M7A  Downtown Toronto  Queen's Park, Ontario Provincial Government   \n\n   Latitude  Longitude  \n2   43.7545   -79.3300  \n3   43.7276   -79.3148  \n4   43.6555   -79.3626  \n5   43.7223   -79.4504  \n6   43.6641   -79.3889  ",
                        "text/html": "<div>\n<style scoped>\n    .dataframe tbody tr th:only-of-type {\n        vertical-align: middle;\n    }\n\n    .dataframe tbody tr th {\n        vertical-align: top;\n    }\n\n    .dataframe thead th {\n        text-align: right;\n    }\n</style>\n<table border=\"1\" class=\"dataframe\">\n  <thead>\n    <tr style=\"text-align: right;\">\n      <th></th>\n      <th>Postal Code</th>\n      <th>Borough</th>\n      <th>Neighbourhood</th>\n      <th>Latitude</th>\n      <th>Longitude</th>\n    </tr>\n  </thead>\n  <tbody>\n    <tr>\n      <th>2</th>\n      <td>M3A</td>\n      <td>North York</td>\n      <td>Parkwoods</td>\n      <td>43.7545</td>\n      <td>-79.3300</td>\n    </tr>\n    <tr>\n      <th>3</th>\n      <td>M4A</td>\n      <td>North York</td>\n      <td>Victoria Village</td>\n      <td>43.7276</td>\n      <td>-79.3148</td>\n    </tr>\n    <tr>\n      <th>4</th>\n      <td>M5A</td>\n      <td>Downtown Toronto</td>\n      <td>Regent Park, Harbourfront</td>\n      <td>43.6555</td>\n      <td>-79.3626</td>\n    </tr>\n    <tr>\n      <th>5</th>\n      <td>M6A</td>\n      <td>North York</td>\n      <td>Lawrence Manor, Lawrence Heights</td>\n      <td>43.7223</td>\n      <td>-79.4504</td>\n    </tr>\n    <tr>\n      <th>6</th>\n      <td>M7A</td>\n      <td>Downtown Toronto</td>\n      <td>Queen's Park, Ontario Provincial Government</td>\n      <td>43.6641</td>\n      <td>-79.3889</td>\n    </tr>\n  </tbody>\n</table>\n</div>"
                    },
                    "metadata": {}
                }
            ]
        },
        {
            "metadata": {},
            "cell_type": "code",
            "source": "df",
            "execution_count": 25,
            "outputs": [
                {
                    "output_type": "execute_result",
                    "execution_count": 25,
                    "data": {
                        "text/plain": "    Postal Code           Borough  \\\n2           M3A        North York   \n3           M4A        North York   \n4           M5A  Downtown Toronto   \n5           M6A        North York   \n6           M7A  Downtown Toronto   \n..          ...               ...   \n160         M8X         Etobicoke   \n165         M4Y  Downtown Toronto   \n168         M7Y      East Toronto   \n169         M8Y         Etobicoke   \n178         M8Z         Etobicoke   \n\n                                         Neighbourhood  Latitude  Longitude  \n2                                            Parkwoods   43.7545   -79.3300  \n3                                     Victoria Village   43.7276   -79.3148  \n4                            Regent Park, Harbourfront   43.6555   -79.3626  \n5                     Lawrence Manor, Lawrence Heights   43.7223   -79.4504  \n6          Queen's Park, Ontario Provincial Government   43.6641   -79.3889  \n..                                                 ...       ...        ...  \n160      The Kingsway, Montgomery Road, Old Mill North   43.6518   -79.5076  \n165                               Church and Wellesley   43.6656   -79.3830  \n168  Business reply mail Processing Centre, South C...   43.7804   -79.2505  \n169  Old Mill South, King's Mill Park, Sunnylea, Hu...   43.6325   -79.4939  \n178  Mimico NW, The Queensway West, South of Bloor,...   43.6256   -79.5231  \n\n[103 rows x 5 columns]",
                        "text/html": "<div>\n<style scoped>\n    .dataframe tbody tr th:only-of-type {\n        vertical-align: middle;\n    }\n\n    .dataframe tbody tr th {\n        vertical-align: top;\n    }\n\n    .dataframe thead th {\n        text-align: right;\n    }\n</style>\n<table border=\"1\" class=\"dataframe\">\n  <thead>\n    <tr style=\"text-align: right;\">\n      <th></th>\n      <th>Postal Code</th>\n      <th>Borough</th>\n      <th>Neighbourhood</th>\n      <th>Latitude</th>\n      <th>Longitude</th>\n    </tr>\n  </thead>\n  <tbody>\n    <tr>\n      <th>2</th>\n      <td>M3A</td>\n      <td>North York</td>\n      <td>Parkwoods</td>\n      <td>43.7545</td>\n      <td>-79.3300</td>\n    </tr>\n    <tr>\n      <th>3</th>\n      <td>M4A</td>\n      <td>North York</td>\n      <td>Victoria Village</td>\n      <td>43.7276</td>\n      <td>-79.3148</td>\n    </tr>\n    <tr>\n      <th>4</th>\n      <td>M5A</td>\n      <td>Downtown Toronto</td>\n      <td>Regent Park, Harbourfront</td>\n      <td>43.6555</td>\n      <td>-79.3626</td>\n    </tr>\n    <tr>\n      <th>5</th>\n      <td>M6A</td>\n      <td>North York</td>\n      <td>Lawrence Manor, Lawrence Heights</td>\n      <td>43.7223</td>\n      <td>-79.4504</td>\n    </tr>\n    <tr>\n      <th>6</th>\n      <td>M7A</td>\n      <td>Downtown Toronto</td>\n      <td>Queen's Park, Ontario Provincial Government</td>\n      <td>43.6641</td>\n      <td>-79.3889</td>\n    </tr>\n    <tr>\n      <th>...</th>\n      <td>...</td>\n      <td>...</td>\n      <td>...</td>\n      <td>...</td>\n      <td>...</td>\n    </tr>\n    <tr>\n      <th>160</th>\n      <td>M8X</td>\n      <td>Etobicoke</td>\n      <td>The Kingsway, Montgomery Road, Old Mill North</td>\n      <td>43.6518</td>\n      <td>-79.5076</td>\n    </tr>\n    <tr>\n      <th>165</th>\n      <td>M4Y</td>\n      <td>Downtown Toronto</td>\n      <td>Church and Wellesley</td>\n      <td>43.6656</td>\n      <td>-79.3830</td>\n    </tr>\n    <tr>\n      <th>168</th>\n      <td>M7Y</td>\n      <td>East Toronto</td>\n      <td>Business reply mail Processing Centre, South C...</td>\n      <td>43.7804</td>\n      <td>-79.2505</td>\n    </tr>\n    <tr>\n      <th>169</th>\n      <td>M8Y</td>\n      <td>Etobicoke</td>\n      <td>Old Mill South, King's Mill Park, Sunnylea, Hu...</td>\n      <td>43.6325</td>\n      <td>-79.4939</td>\n    </tr>\n    <tr>\n      <th>178</th>\n      <td>M8Z</td>\n      <td>Etobicoke</td>\n      <td>Mimico NW, The Queensway West, South of Bloor,...</td>\n      <td>43.6256</td>\n      <td>-79.5231</td>\n    </tr>\n  </tbody>\n</table>\n<p>103 rows \u00d7 5 columns</p>\n</div>"
                    },
                    "metadata": {}
                }
            ]
        },
        {
            "metadata": {},
            "cell_type": "code",
            "source": "",
            "execution_count": null,
            "outputs": []
        }
    ],
    "metadata": {
        "kernelspec": {
            "name": "python3",
            "display_name": "Python 3.7",
            "language": "python"
        },
        "language_info": {
            "name": "python",
            "version": "3.7.9",
            "mimetype": "text/x-python",
            "codemirror_mode": {
                "name": "ipython",
                "version": 3
            },
            "pygments_lexer": "ipython3",
            "nbconvert_exporter": "python",
            "file_extension": ".py"
        }
    },
    "nbformat": 4,
    "nbformat_minor": 1
}